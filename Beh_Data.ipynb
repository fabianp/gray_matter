{
 "cells": [
  {
   "cell_type": "code",
   "execution_count": 1,
   "metadata": {
    "collapsed": false
   },
   "outputs": [
    {
     "name": "stdout",
     "output_type": "stream",
     "text": [
      "Populating the interactive namespace from numpy and matplotlib\n"
     ]
    }
   ],
   "source": [
    "%pylab inline\n",
    "import warnings\n",
    "warnings.filterwarnings('ignore')\n",
    "import nibabel as nb \n",
    "import scipy.io as io\n",
    "import numpy as np\n",
    "import glob\n",
    "import pandas as pd\n",
    "import matplotlib.pyplot as plt\n",
    "import matplotlib.cm as cm\n",
    "import seaborn as sn"
   ]
  },
  {
   "cell_type": "markdown",
   "metadata": {},
   "source": [
    "### Load Behavioral Data at t0"
   ]
  },
  {
   "cell_type": "code",
   "execution_count": 2,
   "metadata": {
    "collapsed": false
   },
   "outputs": [],
   "source": [
    "df_beh = pd.read_excel('all_behavior_t0.xlsx')\n",
    "df_beh = df_beh.replace(' ', np.NaN)"
   ]
  },
  {
   "cell_type": "markdown",
   "metadata": {},
   "source": [
    "### Load Clusters at t0"
   ]
  },
  {
   "cell_type": "code",
   "execution_count": 3,
   "metadata": {
    "collapsed": true
   },
   "outputs": [],
   "source": [
    "clust1_t0 = pd.read_pickle('cluster1_t0')\n",
    "clust2_t0 = pd.read_pickle('cluster2_t0')\n",
    "clust3_t0 = pd.read_pickle('cluster3_t0')"
   ]
  },
  {
   "cell_type": "markdown",
   "metadata": {},
   "source": [
    "### Split behavioral data according to cluster"
   ]
  },
  {
   "cell_type": "code",
   "execution_count": 4,
   "metadata": {
    "collapsed": false
   },
   "outputs": [],
   "source": [
    "data_1 = df_beh.loc[df_beh['ID'].isin(clust1_t0.ID)]\n",
    "data_2 = df_beh.loc[df_beh['ID'].isin(clust2_t0.ID)]\n",
    "data_3 = df_beh.loc[df_beh['ID'].isin(clust3_t0.ID)]"
   ]
  },
  {
   "cell_type": "code",
   "execution_count": 5,
   "metadata": {
    "collapsed": false
   },
   "outputs": [],
   "source": [
    "cl_1 = df_beh.loc[df_beh['ID'].isin(clust1_t0.ID)]\n",
    "cl_2 = df_beh.loc[df_beh['ID'].isin(clust2_t0.ID)]\n",
    "cl_3 = df_beh.loc[df_beh['ID'].isin(clust3_t0.ID)]"
   ]
  },
  {
   "cell_type": "markdown",
   "metadata": {},
   "source": [
    "### There are spared functions, for instance, they are all good at drawing..."
   ]
  },
  {
   "cell_type": "code",
   "execution_count": 12,
   "metadata": {
    "collapsed": false
   },
   "outputs": [
    {
     "name": "stdout",
     "output_type": "stream",
     "text": [
      "15.5\n",
      "15.3783783784\n",
      "15.3461538462\n"
     ]
    }
   ],
   "source": [
    "print np.mean(cl_1.ModRey)\n",
    "print np.mean(cl_2.ModRey)\n",
    "print np.mean(cl_3.ModRey)"
   ]
  },
  {
   "cell_type": "markdown",
   "metadata": {},
   "source": [
    "### ...at remembering a drawing"
   ]
  },
  {
   "cell_type": "code",
   "execution_count": 13,
   "metadata": {
    "collapsed": false
   },
   "outputs": [
    {
     "name": "stdout",
     "output_type": "stream",
     "text": [
      "6.58333333333\n",
      "7.94594594595\n",
      "6.30769230769\n"
     ]
    }
   ],
   "source": [
    "print np.mean(cl_1.Rey10m)\n",
    "print np.mean(cl_2.Rey10m)\n",
    "print np.mean(cl_3.Rey10m)"
   ]
  },
  {
   "cell_type": "markdown",
   "metadata": {},
   "source": [
    "### ...at matching faces (seen vs unseen)"
   ]
  },
  {
   "cell_type": "code",
   "execution_count": 14,
   "metadata": {
    "collapsed": false
   },
   "outputs": [
    {
     "name": "stdout",
     "output_type": "stream",
     "text": [
      "11.3846153846\n",
      "11.7692307692\n",
      "11.6470588235\n"
     ]
    }
   ],
   "source": [
    "print np.mean(cl_1.CATSFMTot)\n",
    "print np.mean(cl_2.CATSFMTot)\n",
    "print np.mean(cl_3.CATSFMTot)"
   ]
  },
  {
   "cell_type": "markdown",
   "metadata": {},
   "source": [
    "### But the patients in cluster 1, are very impared overall (measure of overall dementia)"
   ]
  },
  {
   "cell_type": "code",
   "execution_count": 15,
   "metadata": {
    "collapsed": false
   },
   "outputs": [
    {
     "name": "stdout",
     "output_type": "stream",
     "text": [
      "18.28\n",
      "23.7567567568\n",
      "24.2592592593\n"
     ]
    }
   ],
   "source": [
    "print np.mean(cl_1.MMSETot)\n",
    "print np.mean(cl_2.MMSETot)\n",
    "print np.mean(cl_3.MMSETot)"
   ]
  },
  {
   "cell_type": "markdown",
   "metadata": {},
   "source": [
    "### What is the different between cluster 2 and 3?\n",
    "### It seems cluster 2 is worse at naming things"
   ]
  },
  {
   "cell_type": "code",
   "execution_count": 16,
   "metadata": {
    "collapsed": false
   },
   "outputs": [
    {
     "name": "stdout",
     "output_type": "stream",
     "text": [
      "2.95833333333\n",
      "4.88888888889\n",
      "7.08\n"
     ]
    }
   ],
   "source": [
    "print np.mean(cl_1.BNTTot)\n",
    "print np.mean(cl_2.BNTTot)\n",
    "print np.mean(cl_3.BNTTot)"
   ]
  },
  {
   "cell_type": "markdown",
   "metadata": {},
   "source": [
    "### while cluster 3 is worse at understanding emotions from faces"
   ]
  },
  {
   "cell_type": "code",
   "execution_count": 18,
   "metadata": {
    "collapsed": false
   },
   "outputs": [
    {
     "name": "stdout",
     "output_type": "stream",
     "text": [
      "11.5454545455\n",
      "12.04\n",
      "9.47058823529\n"
     ]
    }
   ],
   "source": [
    "print np.mean(cl_1.CATSAMTot)\n",
    "print np.mean(cl_2.CATSAMTot)\n",
    "print np.mean(cl_3.CATSAMTot)"
   ]
  },
  {
   "cell_type": "code",
   "execution_count": null,
   "metadata": {
    "collapsed": true
   },
   "outputs": [],
   "source": []
  },
  {
   "cell_type": "code",
   "execution_count": null,
   "metadata": {
    "collapsed": true
   },
   "outputs": [],
   "source": []
  },
  {
   "cell_type": "code",
   "execution_count": null,
   "metadata": {
    "collapsed": true
   },
   "outputs": [],
   "source": []
  },
  {
   "cell_type": "code",
   "execution_count": null,
   "metadata": {
    "collapsed": true
   },
   "outputs": [],
   "source": []
  },
  {
   "cell_type": "code",
   "execution_count": null,
   "metadata": {
    "collapsed": true
   },
   "outputs": [],
   "source": []
  },
  {
   "cell_type": "markdown",
   "metadata": {},
   "source": [
    "### Load Clusters at t1"
   ]
  },
  {
   "cell_type": "code",
   "execution_count": null,
   "metadata": {
    "collapsed": true
   },
   "outputs": [],
   "source": [
    "clust1_t1 = pd.read_pickle('cluster1_t1')\n",
    "clust2_t1 = pd.read_pickle('cluster2_t1')\n",
    "clust3_t1 = pd.read_pickle('cluster3_t1')"
   ]
  },
  {
   "cell_type": "code",
   "execution_count": null,
   "metadata": {
    "collapsed": false
   },
   "outputs": [],
   "source": [
    "clust3_t1"
   ]
  },
  {
   "cell_type": "code",
   "execution_count": null,
   "metadata": {
    "collapsed": true
   },
   "outputs": [],
   "source": []
  }
 ],
 "metadata": {
  "kernelspec": {
   "display_name": "Python 2",
   "language": "python",
   "name": "python2"
  },
  "language_info": {
   "codemirror_mode": {
    "name": "ipython",
    "version": 2
   },
   "file_extension": ".py",
   "mimetype": "text/x-python",
   "name": "python",
   "nbconvert_exporter": "python",
   "pygments_lexer": "ipython2",
   "version": "2.7.13"
  }
 },
 "nbformat": 4,
 "nbformat_minor": 2
}

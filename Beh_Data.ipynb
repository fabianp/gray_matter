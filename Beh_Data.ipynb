{
 "cells": [
  {
   "cell_type": "code",
   "execution_count": 20,
   "metadata": {
    "collapsed": false
   },
   "outputs": [
    {
     "name": "stdout",
     "output_type": "stream",
     "text": [
      "Populating the interactive namespace from numpy and matplotlib\n"
     ]
    }
   ],
   "source": [
    "%pylab inline\n",
    "import warnings\n",
    "warnings.filterwarnings('ignore')\n",
    "import nibabel as nb \n",
    "import scipy.io as io\n",
    "import numpy as np\n",
    "import glob\n",
    "import pandas as pd\n",
    "import matplotlib.pyplot as plt\n",
    "import matplotlib.cm as cm\n",
    "import seaborn as sn"
   ]
  },
  {
   "cell_type": "markdown",
   "metadata": {},
   "source": [
    "# First visit (time 0)"
   ]
  },
  {
   "cell_type": "markdown",
   "metadata": {},
   "source": [
    "#### Load Behavioral Data at t0"
   ]
  },
  {
   "cell_type": "code",
   "execution_count": 21,
   "metadata": {
    "collapsed": false
   },
   "outputs": [],
   "source": [
    "df_beh = pd.read_excel('all_behavior_t0.xlsx')\n",
    "df_beh = df_beh.replace(' ', np.NaN)"
   ]
  },
  {
   "cell_type": "markdown",
   "metadata": {},
   "source": [
    "#### Load Clusters at t0"
   ]
  },
  {
   "cell_type": "code",
   "execution_count": 22,
   "metadata": {
    "collapsed": true
   },
   "outputs": [],
   "source": [
    "clust1_t0 = pd.read_pickle('cluster1_t0')\n",
    "clust2_t0 = pd.read_pickle('cluster2_t0')\n",
    "clust3_t0 = pd.read_pickle('cluster3_t0')"
   ]
  },
  {
   "cell_type": "markdown",
   "metadata": {},
   "source": [
    "#### Split behavioral data according to cluster"
   ]
  },
  {
   "cell_type": "code",
   "execution_count": 23,
   "metadata": {
    "collapsed": false
   },
   "outputs": [],
   "source": [
    "cl_1 = df_beh.loc[df_beh['ID'].isin(clust1_t0.ID)]\n",
    "cl_2 = df_beh.loc[df_beh['ID'].isin(clust2_t0.ID)]\n",
    "cl_3 = df_beh.loc[df_beh['ID'].isin(clust3_t0.ID)]"
   ]
  },
  {
   "cell_type": "markdown",
   "metadata": {},
   "source": [
    "#### There are spared functions, for instance, they are all good at drawing..."
   ]
  },
  {
   "cell_type": "code",
   "execution_count": 24,
   "metadata": {
    "collapsed": false
   },
   "outputs": [
    {
     "name": "stdout",
     "output_type": "stream",
     "text": [
      "15.5\n",
      "15.3783783784\n",
      "15.3461538462\n"
     ]
    }
   ],
   "source": [
    "print np.mean(cl_1.ModRey)\n",
    "print np.mean(cl_2.ModRey)\n",
    "print np.mean(cl_3.ModRey)"
   ]
  },
  {
   "cell_type": "markdown",
   "metadata": {},
   "source": [
    "#### ...at remembering a drawing"
   ]
  },
  {
   "cell_type": "code",
   "execution_count": 25,
   "metadata": {
    "collapsed": false
   },
   "outputs": [
    {
     "name": "stdout",
     "output_type": "stream",
     "text": [
      "6.58333333333\n",
      "7.94594594595\n",
      "6.30769230769\n"
     ]
    }
   ],
   "source": [
    "print np.mean(cl_1.Rey10m)\n",
    "print np.mean(cl_2.Rey10m)\n",
    "print np.mean(cl_3.Rey10m)"
   ]
  },
  {
   "cell_type": "markdown",
   "metadata": {},
   "source": [
    "#### ...at matching faces (seen vs unseen)"
   ]
  },
  {
   "cell_type": "code",
   "execution_count": 26,
   "metadata": {
    "collapsed": false
   },
   "outputs": [
    {
     "name": "stdout",
     "output_type": "stream",
     "text": [
      "11.3846153846\n",
      "11.7692307692\n",
      "11.6470588235\n"
     ]
    }
   ],
   "source": [
    "print np.mean(cl_1.CATSFMTot)\n",
    "print np.mean(cl_2.CATSFMTot)\n",
    "print np.mean(cl_3.CATSFMTot)"
   ]
  },
  {
   "cell_type": "markdown",
   "metadata": {},
   "source": [
    "#### But the patients in cluster 1, are very impared overall (measure of overall dementia)"
   ]
  },
  {
   "cell_type": "code",
   "execution_count": 27,
   "metadata": {
    "collapsed": false
   },
   "outputs": [
    {
     "name": "stdout",
     "output_type": "stream",
     "text": [
      "18.28\n",
      "23.7567567568\n",
      "24.2592592593\n"
     ]
    }
   ],
   "source": [
    "print np.mean(cl_1.MMSETot)\n",
    "print np.mean(cl_2.MMSETot)\n",
    "print np.mean(cl_3.MMSETot)"
   ]
  },
  {
   "cell_type": "markdown",
   "metadata": {},
   "source": [
    "#### What is the different between cluster 2 and 3?\n",
    "#### It seems cluster 2 is worse at naming things"
   ]
  },
  {
   "cell_type": "code",
   "execution_count": 28,
   "metadata": {
    "collapsed": false
   },
   "outputs": [
    {
     "name": "stdout",
     "output_type": "stream",
     "text": [
      "2.95833333333\n",
      "4.88888888889\n",
      "7.08\n"
     ]
    }
   ],
   "source": [
    "print np.mean(cl_1.BNTTot)\n",
    "print np.mean(cl_2.BNTTot)\n",
    "print np.mean(cl_3.BNTTot)"
   ]
  },
  {
   "cell_type": "markdown",
   "metadata": {},
   "source": [
    "#### while cluster 3 is worse at understanding emotions from faces"
   ]
  },
  {
   "cell_type": "code",
   "execution_count": 29,
   "metadata": {
    "collapsed": false
   },
   "outputs": [
    {
     "name": "stdout",
     "output_type": "stream",
     "text": [
      "11.5454545455\n",
      "12.04\n",
      "9.47058823529\n"
     ]
    }
   ],
   "source": [
    "print np.mean(cl_1.CATSAMTot)\n",
    "print np.mean(cl_2.CATSAMTot)\n",
    "print np.mean(cl_3.CATSAMTot)"
   ]
  },
  {
   "cell_type": "markdown",
   "metadata": {},
   "source": [
    "# Second visit (time 1)"
   ]
  },
  {
   "cell_type": "markdown",
   "metadata": {},
   "source": [
    "#### Load Clusters at t1"
   ]
  },
  {
   "cell_type": "code",
   "execution_count": 30,
   "metadata": {
    "collapsed": true
   },
   "outputs": [],
   "source": [
    "clust1_t1 = pd.read_pickle('cluster1_t1')\n",
    "clust2_t1 = pd.read_pickle('cluster2_t1')\n",
    "clust3_t1 = pd.read_pickle('cluster3_t1')"
   ]
  },
  {
   "cell_type": "markdown",
   "metadata": {},
   "source": [
    "#### Load Behavior at t1"
   ]
  },
  {
   "cell_type": "code",
   "execution_count": 31,
   "metadata": {
    "collapsed": false
   },
   "outputs": [],
   "source": [
    "df_beh_t1 = pd.read_excel('all_behavior_t1.xlsx')\n",
    "df_beh_t1 = df_beh_t1.replace(' ', np.NaN)"
   ]
  },
  {
   "cell_type": "markdown",
   "metadata": {},
   "source": [
    "#### Look at behavioral performance splitting according clustering at time 0"
   ]
  },
  {
   "cell_type": "code",
   "execution_count": 32,
   "metadata": {
    "collapsed": false
   },
   "outputs": [],
   "source": [
    "cl2_1 = df_beh_t1.loc[df_beh_t1['ID'].isin(clust1_t0.ID)]\n",
    "cl2_2 = df_beh_t1.loc[df_beh_t1['ID'].isin(clust2_t0.ID)]\n",
    "cl2_3 = df_beh_t1.loc[df_beh_t1['ID'].isin(clust3_t0.ID)]"
   ]
  },
  {
   "cell_type": "code",
   "execution_count": 33,
   "metadata": {
    "collapsed": false
   },
   "outputs": [
    {
     "name": "stdout",
     "output_type": "stream",
     "text": [
      "Overall dementia rating for cluster 1 at time 0 and time 1\n",
      "18.28\n",
      "17.1875\n",
      "Overall dementia rating for cluster 2 at time 0 and time 1\n",
      "23.7567567568\n",
      "21.72\n",
      "Overall dementia rating for cluster 3 at time 0 and time 1\n",
      "24.2592592593\n",
      "23.8823529412\n"
     ]
    }
   ],
   "source": [
    "print('Overall dementia rating for cluster 1 at time 0 and time 1')\n",
    "print np.mean(cl_1.MMSETot)\n",
    "print np.mean(cl2_1.MMSETot)\n",
    "\n",
    "print('Overall dementia rating for cluster 2 at time 0 and time 1')\n",
    "print np.mean(cl_2.MMSETot)\n",
    "print np.mean(cl2_2.MMSETot)\n",
    "\n",
    "print('Overall dementia rating for cluster 3 at time 0 and time 1')\n",
    "print np.mean(cl_3.MMSETot)\n",
    "print np.mean(cl2_3.MMSETot)"
   ]
  },
  {
   "cell_type": "code",
   "execution_count": 34,
   "metadata": {
    "collapsed": false
   },
   "outputs": [
    {
     "name": "stdout",
     "output_type": "stream",
     "text": [
      "Naming performance for cluster 1 at time 0 and time 1\n",
      "2.95833333333\n",
      "1.66666666667\n",
      "Naming performance for cluster 2 at time 0 and time 1\n",
      "4.88888888889\n",
      "2.77272727273\n",
      "Naming performance for cluster 3 at time 0 and time 1\n",
      "7.08\n",
      "5.52941176471\n"
     ]
    }
   ],
   "source": [
    "print('Naming performance for cluster 1 at time 0 and time 1')\n",
    "print np.mean(cl_1.BNTTot)\n",
    "print np.mean(cl2_1.BNTTot)\n",
    "\n",
    "print('Naming performance for cluster 2 at time 0 and time 1')\n",
    "print np.mean(cl_2.BNTTot)\n",
    "print np.mean(cl2_2.BNTTot)\n",
    "\n",
    "print('Naming performance for cluster 3 at time 0 and time 1')\n",
    "print np.mean(cl_3.BNTTot)\n",
    "print np.mean(cl2_3.BNTTot)"
   ]
  },
  {
   "cell_type": "code",
   "execution_count": 35,
   "metadata": {
    "collapsed": false
   },
   "outputs": [
    {
     "name": "stdout",
     "output_type": "stream",
     "text": [
      "Social skills cluster 1 at time 0 and time 1\n",
      "11.5454545455\n",
      "10.0\n",
      "Social skills cluster 2 at time 0 and time 1\n",
      "12.04\n",
      "11.125\n",
      "Social skills cluster 3 at time 0 and time 1\n",
      "9.47058823529\n",
      "10.0909090909\n"
     ]
    }
   ],
   "source": [
    "print('Social skills cluster 1 at time 0 and time 1')\n",
    "print np.mean(cl_1.CATSAMTot)\n",
    "print np.mean(cl2_1.CATSAMTot)\n",
    "\n",
    "print('Social skills cluster 2 at time 0 and time 1')\n",
    "print np.mean(cl_2.CATSAMTot)\n",
    "print np.mean(cl2_2.CATSAMTot)\n",
    "\n",
    "print('Social skills cluster 3 at time 0 and time 1')\n",
    "print np.mean(cl_3.CATSAMTot)\n",
    "print np.mean(cl2_3.CATSAMTot)"
   ]
  },
  {
   "cell_type": "code",
   "execution_count": null,
   "metadata": {
    "collapsed": true
   },
   "outputs": [],
   "source": []
  }
 ],
 "metadata": {
  "kernelspec": {
   "display_name": "Python 2",
   "language": "python",
   "name": "python2"
  },
  "language_info": {
   "codemirror_mode": {
    "name": "ipython",
    "version": 2
   },
   "file_extension": ".py",
   "mimetype": "text/x-python",
   "name": "python",
   "nbconvert_exporter": "python",
   "pygments_lexer": "ipython2",
   "version": "2.7.13"
  }
 },
 "nbformat": 4,
 "nbformat_minor": 2
}
